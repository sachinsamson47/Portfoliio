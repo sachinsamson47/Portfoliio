{
 "metadata": {
  "language_info": {
   "codemirror_mode": {
    "name": "ipython",
    "version": 3
   },
   "file_extension": ".py",
   "mimetype": "text/x-python",
   "name": "python",
   "nbconvert_exporter": "python",
   "pygments_lexer": "ipython3",
   "version": "3.7.6"
  },
  "orig_nbformat": 4,
  "kernelspec": {
   "name": "python3",
   "display_name": "Python 3.7.6 64-bit ('base': conda)"
  },
  "interpreter": {
   "hash": "1d0a568be9ee452882f392ad50e5c9bf003da36428b17481d21358d33de0b89d"
  }
 },
 "nbformat": 4,
 "nbformat_minor": 2,
 "cells": [
  {
   "cell_type": "code",
   "execution_count": 1,
   "metadata": {},
   "outputs": [],
   "source": [
    "from selenium import webdriver\n",
    "from selenium.webdriver.chrome.options import Options\n",
    "from selenium.webdriver.common.keys import Keys\n",
    "from selenium.webdriver.support import expected_conditions as EC\n",
    "from selenium.webdriver.common.by import By\n",
    "from selenium.webdriver.support.wait import WebDriverWait\n",
    "from selenium.common.exceptions import NoSuchElementException\n",
    "import os   \n",
    "import time\n",
    "import numpy as np \n",
    "import pandas as pd"
   ]
  },
  {
   "cell_type": "code",
   "execution_count": 4,
   "metadata": {},
   "outputs": [
    {
     "output_type": "stream",
     "name": "stderr",
     "text": [
      "C:\\Users\\Sachin\\anaconda3\\lib\\site-packages\\ipykernel_launcher.py:3: DeprecationWarning: use options instead of chrome_options\n  This is separate from the ipykernel package so we can avoid doing imports until\n"
     ]
    }
   ],
   "source": [
    "chrome_options = Options()\n",
    "chrome_options.add_experimental_option( \"prefs\",{'profile.managed_default_content_settings.javascript': 2})\n",
    "driver=webdriver.Chrome(\"C:/Users/Sachin/Downloads/chromedriver_win32/chromedriver.exe\",chrome_options=chrome_options)\n",
    "driver.get(\"https://www.kijiji.ca/b-cars-trucks/kingston-area/used/page-3/c174l1700181a49?price=__5000\")"
   ]
  },
  {
   "cell_type": "code",
   "execution_count": 24,
   "metadata": {},
   "outputs": [],
   "source": [
    "cars=[]"
   ]
  },
  {
   "cell_type": "code",
   "execution_count": null,
   "metadata": {},
   "outputs": [],
   "source": [
    "j=1\n",
    "while j<=7:\n",
    "    i=1\n",
    "    while i<=81:\n",
    "        driver.find_elements_by_class_name('title ')[i].click()\n",
    "        time.sleep(1)\n",
    "        try:\n",
    "            c=driver.find_element_by_class_name('itemTitleWrapper-4111598823').text\n",
    "            d=driver.find_element_by_class_name('attributeListWrapper-2108313769').text\n",
    "            cars.append(c)\n",
    "            cars.append(d)\n",
    "        except NoSuchElementException:\n",
    "            pass\n",
    "        driver.back()\n",
    "        i=i+2\n",
    "    time.sleep(40)\n",
    "    driver.find_element_by_xpath('//*[@title=\"Next\"]').click()\n",
    "    j=j+1"
   ]
  },
  {
   "cell_type": "code",
   "execution_count": null,
   "metadata": {},
   "outputs": [],
   "source": [
    "len(cars)"
   ]
  },
  {
   "cell_type": "code",
   "execution_count": 28,
   "metadata": {},
   "outputs": [],
   "source": [
    "df=pd.DataFrame(cars)\n",
    "df.to_csv(r'C:\\Users\\Sachin\\Desktop\\cars.csv',)"
   ]
  }
 ]
}